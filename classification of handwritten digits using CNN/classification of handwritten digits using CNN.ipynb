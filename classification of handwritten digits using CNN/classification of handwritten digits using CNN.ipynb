{
 "cells": [
  {
   "cell_type": "code",
   "execution_count": 1,
   "id": "df4d13c4",
   "metadata": {},
   "outputs": [],
   "source": [
    "from sklearn import datasets\n",
    "from sklearn.model_selection import train_test_split\n",
    "from keras.utils import to_categorical\n",
    "from keras.models import Sequential\n",
    "from keras.layers import Conv2D,MaxPooling2D,Flatten,Dense\n",
    "from keras.callbacks import EarlyStopping,ModelCheckpoint\n",
    "import matplotlib.pyplot as plt"
   ]
  },
  {
   "cell_type": "code",
   "execution_count": 2,
   "id": "4226ef12",
   "metadata": {},
   "outputs": [],
   "source": [
    "data=datasets.load_digits()\n",
    "x=data.images\n",
    "y=data.target"
   ]
  },
  {
   "cell_type": "code",
   "execution_count": 3,
   "id": "95cf0741",
   "metadata": {},
   "outputs": [],
   "source": [
    "x=x.reshape((x.shape[0],8,8,1))\n",
    "x=x.astype('float32')/255\n",
    "y=to_categorical(y)"
   ]
  },
  {
   "cell_type": "code",
   "execution_count": 4,
   "id": "3cfe840a",
   "metadata": {},
   "outputs": [],
   "source": [
    "x_train,x_test,y_train,y_test=train_test_split(x,y,test_size=0.2)"
   ]
  },
  {
   "cell_type": "code",
   "execution_count": 5,
   "id": "8130d426",
   "metadata": {},
   "outputs": [],
   "source": [
    "model=Sequential()\n",
    "model.add(Conv2D(32,kernel_size=(3,3),activation='relu',input_shape=(8,8,1)))\n",
    "model.add(MaxPooling2D(pool_size=(2,2)))\n",
    "model.add(Flatten())\n",
    "model.add(Dense(64,activation='relu'))\n",
    "model.add(Dense(10,activation='softmax'))\n"
   ]
  },
  {
   "cell_type": "code",
   "execution_count": 6,
   "id": "70de1b0a",
   "metadata": {},
   "outputs": [],
   "source": [
    "model.compile(optimizer='adam',loss='categorical_crossentropy',metrics=['accuracy'])"
   ]
  },
  {
   "cell_type": "code",
   "execution_count": 7,
   "id": "c0d2922d",
   "metadata": {},
   "outputs": [],
   "source": [
    "earlystop=EarlyStopping(monitor='val_loss',patience=10)\n",
    "best_weights=ModelCheckpoint('best_weights.h5',save_best_only=True,monitor='val_loss',mode='min')"
   ]
  },
  {
   "cell_type": "code",
   "execution_count": 8,
   "id": "1045345c",
   "metadata": {},
   "outputs": [
    {
     "name": "stdout",
     "output_type": "stream",
     "text": [
      "Epoch 1/50\n",
      "45/45 [==============================] - 0s 4ms/step - loss: 2.2875 - accuracy: 0.1976 - val_loss: 2.2706 - val_accuracy: 0.1722\n",
      "Epoch 2/50\n",
      "45/45 [==============================] - 0s 2ms/step - loss: 2.2216 - accuracy: 0.4315 - val_loss: 2.1681 - val_accuracy: 0.4028\n",
      "Epoch 3/50\n",
      "45/45 [==============================] - 0s 2ms/step - loss: 2.0431 - accuracy: 0.5136 - val_loss: 1.9177 - val_accuracy: 0.6694\n"
     ]
    },
    {
     "name": "stderr",
     "output_type": "stream",
     "text": [
      "C:\\Users\\Student\\AppData\\Roaming\\Python\\Python39\\site-packages\\keras\\src\\engine\\training.py:3000: UserWarning: You are saving your model as an HDF5 file via `model.save()`. This file format is considered legacy. We recommend using instead the native Keras format, e.g. `model.save('my_model.keras')`.\n",
      "  saving_api.save_model(\n"
     ]
    },
    {
     "name": "stdout",
     "output_type": "stream",
     "text": [
      "Epoch 4/50\n",
      "45/45 [==============================] - 0s 2ms/step - loss: 1.7128 - accuracy: 0.6875 - val_loss: 1.5437 - val_accuracy: 0.7056\n",
      "Epoch 5/50\n",
      "45/45 [==============================] - 0s 2ms/step - loss: 1.3284 - accuracy: 0.7599 - val_loss: 1.1873 - val_accuracy: 0.8111\n",
      "Epoch 6/50\n",
      "45/45 [==============================] - 0s 2ms/step - loss: 1.0186 - accuracy: 0.8170 - val_loss: 0.9318 - val_accuracy: 0.8056\n",
      "Epoch 7/50\n",
      "45/45 [==============================] - 0s 2ms/step - loss: 0.7998 - accuracy: 0.8434 - val_loss: 0.7528 - val_accuracy: 0.8833\n",
      "Epoch 8/50\n",
      "45/45 [==============================] - 0s 2ms/step - loss: 0.6570 - accuracy: 0.8622 - val_loss: 0.6193 - val_accuracy: 0.8889\n",
      "Epoch 9/50\n",
      "45/45 [==============================] - 0s 2ms/step - loss: 0.5643 - accuracy: 0.8866 - val_loss: 0.5492 - val_accuracy: 0.8694\n",
      "Epoch 10/50\n",
      "45/45 [==============================] - 0s 2ms/step - loss: 0.4880 - accuracy: 0.8949 - val_loss: 0.4999 - val_accuracy: 0.8750\n",
      "Epoch 11/50\n",
      "45/45 [==============================] - 0s 2ms/step - loss: 0.4359 - accuracy: 0.9040 - val_loss: 0.4290 - val_accuracy: 0.9056\n",
      "Epoch 12/50\n",
      "45/45 [==============================] - 0s 2ms/step - loss: 0.3964 - accuracy: 0.9123 - val_loss: 0.3941 - val_accuracy: 0.9083\n",
      "Epoch 13/50\n",
      "45/45 [==============================] - 0s 2ms/step - loss: 0.3643 - accuracy: 0.9214 - val_loss: 0.3669 - val_accuracy: 0.9222\n",
      "Epoch 14/50\n",
      "45/45 [==============================] - 0s 2ms/step - loss: 0.3411 - accuracy: 0.9207 - val_loss: 0.3377 - val_accuracy: 0.9306\n",
      "Epoch 15/50\n",
      "45/45 [==============================] - 0s 2ms/step - loss: 0.3091 - accuracy: 0.9283 - val_loss: 0.3219 - val_accuracy: 0.9250\n",
      "Epoch 16/50\n",
      "45/45 [==============================] - 0s 2ms/step - loss: 0.2890 - accuracy: 0.9318 - val_loss: 0.3066 - val_accuracy: 0.9278\n",
      "Epoch 17/50\n",
      "45/45 [==============================] - 0s 2ms/step - loss: 0.2697 - accuracy: 0.9422 - val_loss: 0.2834 - val_accuracy: 0.9250\n",
      "Epoch 18/50\n",
      "45/45 [==============================] - 0s 2ms/step - loss: 0.2567 - accuracy: 0.9388 - val_loss: 0.2688 - val_accuracy: 0.9389\n",
      "Epoch 19/50\n",
      "45/45 [==============================] - 0s 2ms/step - loss: 0.2415 - accuracy: 0.9443 - val_loss: 0.2512 - val_accuracy: 0.9361\n",
      "Epoch 20/50\n",
      "45/45 [==============================] - 0s 2ms/step - loss: 0.2312 - accuracy: 0.9429 - val_loss: 0.2485 - val_accuracy: 0.9361\n",
      "Epoch 21/50\n",
      "45/45 [==============================] - 0s 2ms/step - loss: 0.2166 - accuracy: 0.9478 - val_loss: 0.2296 - val_accuracy: 0.9417\n",
      "Epoch 22/50\n",
      "45/45 [==============================] - 0s 2ms/step - loss: 0.2108 - accuracy: 0.9513 - val_loss: 0.2237 - val_accuracy: 0.9417\n",
      "Epoch 23/50\n",
      "45/45 [==============================] - 0s 2ms/step - loss: 0.1986 - accuracy: 0.9541 - val_loss: 0.2216 - val_accuracy: 0.9333\n",
      "Epoch 24/50\n",
      "45/45 [==============================] - 0s 2ms/step - loss: 0.1893 - accuracy: 0.9589 - val_loss: 0.2054 - val_accuracy: 0.9444\n",
      "Epoch 25/50\n",
      "45/45 [==============================] - 0s 2ms/step - loss: 0.1854 - accuracy: 0.9555 - val_loss: 0.2039 - val_accuracy: 0.9417\n",
      "Epoch 26/50\n",
      "45/45 [==============================] - 0s 2ms/step - loss: 0.1737 - accuracy: 0.9631 - val_loss: 0.1953 - val_accuracy: 0.9444\n",
      "Epoch 27/50\n",
      "45/45 [==============================] - 0s 2ms/step - loss: 0.1673 - accuracy: 0.9617 - val_loss: 0.1934 - val_accuracy: 0.9444\n",
      "Epoch 28/50\n",
      "45/45 [==============================] - 0s 2ms/step - loss: 0.1610 - accuracy: 0.9617 - val_loss: 0.1822 - val_accuracy: 0.9556\n",
      "Epoch 29/50\n",
      "45/45 [==============================] - 0s 2ms/step - loss: 0.1586 - accuracy: 0.9638 - val_loss: 0.1771 - val_accuracy: 0.9583\n",
      "Epoch 30/50\n",
      "45/45 [==============================] - 0s 2ms/step - loss: 0.1507 - accuracy: 0.9645 - val_loss: 0.1730 - val_accuracy: 0.9583\n",
      "Epoch 31/50\n",
      "45/45 [==============================] - 0s 2ms/step - loss: 0.1455 - accuracy: 0.9645 - val_loss: 0.1765 - val_accuracy: 0.9500\n",
      "Epoch 32/50\n",
      "45/45 [==============================] - 0s 2ms/step - loss: 0.1433 - accuracy: 0.9701 - val_loss: 0.1627 - val_accuracy: 0.9611\n",
      "Epoch 33/50\n",
      "45/45 [==============================] - 0s 2ms/step - loss: 0.1362 - accuracy: 0.9652 - val_loss: 0.1701 - val_accuracy: 0.9472\n",
      "Epoch 34/50\n",
      "45/45 [==============================] - 0s 1ms/step - loss: 0.1321 - accuracy: 0.9673 - val_loss: 0.1636 - val_accuracy: 0.9611\n",
      "Epoch 35/50\n",
      "45/45 [==============================] - 0s 2ms/step - loss: 0.1272 - accuracy: 0.9729 - val_loss: 0.1692 - val_accuracy: 0.9528\n",
      "Epoch 36/50\n",
      "45/45 [==============================] - 0s 2ms/step - loss: 0.1249 - accuracy: 0.9680 - val_loss: 0.1661 - val_accuracy: 0.9528\n",
      "Epoch 37/50\n",
      "45/45 [==============================] - 0s 2ms/step - loss: 0.1229 - accuracy: 0.9680 - val_loss: 0.1427 - val_accuracy: 0.9639\n",
      "Epoch 38/50\n",
      "45/45 [==============================] - 0s 2ms/step - loss: 0.1176 - accuracy: 0.9722 - val_loss: 0.1443 - val_accuracy: 0.9611\n",
      "Epoch 39/50\n",
      "45/45 [==============================] - 0s 2ms/step - loss: 0.1139 - accuracy: 0.9763 - val_loss: 0.1514 - val_accuracy: 0.9639\n",
      "Epoch 40/50\n",
      "45/45 [==============================] - 0s 1ms/step - loss: 0.1119 - accuracy: 0.9743 - val_loss: 0.1504 - val_accuracy: 0.9611\n",
      "Epoch 41/50\n",
      "45/45 [==============================] - 0s 2ms/step - loss: 0.1064 - accuracy: 0.9749 - val_loss: 0.1338 - val_accuracy: 0.9639\n",
      "Epoch 42/50\n",
      "45/45 [==============================] - 0s 2ms/step - loss: 0.1081 - accuracy: 0.9763 - val_loss: 0.1382 - val_accuracy: 0.9583\n",
      "Epoch 43/50\n",
      "45/45 [==============================] - 0s 2ms/step - loss: 0.1019 - accuracy: 0.9763 - val_loss: 0.1354 - val_accuracy: 0.9639\n",
      "Epoch 44/50\n",
      "45/45 [==============================] - 0s 2ms/step - loss: 0.1024 - accuracy: 0.9763 - val_loss: 0.1291 - val_accuracy: 0.9694\n",
      "Epoch 45/50\n",
      "45/45 [==============================] - 0s 2ms/step - loss: 0.1002 - accuracy: 0.9756 - val_loss: 0.1313 - val_accuracy: 0.9583\n",
      "Epoch 46/50\n",
      "45/45 [==============================] - 0s 2ms/step - loss: 0.0934 - accuracy: 0.9791 - val_loss: 0.1232 - val_accuracy: 0.9639\n",
      "Epoch 47/50\n",
      "45/45 [==============================] - 0s 2ms/step - loss: 0.0902 - accuracy: 0.9770 - val_loss: 0.1236 - val_accuracy: 0.9667\n",
      "Epoch 48/50\n",
      "45/45 [==============================] - 0s 2ms/step - loss: 0.0901 - accuracy: 0.9812 - val_loss: 0.1207 - val_accuracy: 0.9694\n",
      "Epoch 49/50\n",
      "45/45 [==============================] - 0s 2ms/step - loss: 0.0854 - accuracy: 0.9784 - val_loss: 0.1264 - val_accuracy: 0.9694\n",
      "Epoch 50/50\n",
      "45/45 [==============================] - 0s 2ms/step - loss: 0.0859 - accuracy: 0.9805 - val_loss: 0.1173 - val_accuracy: 0.9722\n"
     ]
    }
   ],
   "source": [
    "history=model.fit(x_train,y_train,epochs=50,batch_size=32,validation_data=(x_test,y_test),\n",
    "                  callbacks=[earlystop,best_weights])"
   ]
  },
  {
   "cell_type": "code",
   "execution_count": 9,
   "id": "6c3b470c",
   "metadata": {},
   "outputs": [
    {
     "data": {
      "image/png": "[encoded data removed]",
      "text/plain": [
       "<Figure size 640x480 with 1 Axes>"
      ]
     },
     "metadata": {},
     "output_type": "display_data"
    }
   ],
   "source": [
    "plt.plot(history.history['val_loss'])\n",
    "plt.title('Validation Loss')\n",
    "plt.ylabel('Loss')\n",
    "plt.xlabel('Epoch')\n",
    "plt.show()"
   ]
  },
  {
   "cell_type": "code",
   "execution_count": 10,
   "id": "5131859f",
   "metadata": {},
   "outputs": [
    {
     "data": {
      "image/png": "[encoded data removed]",
      "text/plain": [
       "<Figure size 640x480 with 1 Axes>"
      ]
     },
     "metadata": {},
     "output_type": "display_data"
    }
   ],
   "source": [
    "plt.plot(history.history['val_accuracy'])\n",
    "plt.title('Validation accuracy')\n",
    "plt.ylabel('Accuracy')\n",
    "plt.xlabel('Epoch')\n",
    "plt.show()"
   ]
  },
  {
   "cell_type": "code",
   "execution_count": 11,
   "id": "d6e0b07c",
   "metadata": {},
   "outputs": [],
   "source": [
    "model.load_weights(\"best_weights.h5\")"
   ]
  },
  {
   "cell_type": "code",
   "execution_count": 12,
   "id": "da7fdd2d",
   "metadata": {},
   "outputs": [
    {
     "name": "stdout",
     "output_type": "stream",
     "text": [
      "Test Loss: 0.11733775585889816\n",
      "Test Accuracy: 0.9722222089767456\n"
     ]
    }
   ],
   "source": [
    "test_loss,test_acc=model.evaluate(x_test,y_test,verbose=0)\n",
    "print(\"Test Loss:\",test_loss)\n",
    "print(\"Test Accuracy:\",test_acc)"
   ]
  },
  {
   "cell_type": "code",
   "execution_count": null,
   "id": "0c35c457",
   "metadata": {},
   "outputs": [],
   "source": []
  }
 ],
 "metadata": {
  "kernelspec": {
   "display_name": "Python 3 (ipykernel)",
   "language": "python",
   "name": "python3"
  },
  "language_info": {
   "codemirror_mode": {
    "name": "ipython",
    "version": 3
   },
   "file_extension": ".py",
   "mimetype": "text/x-python",
   "name": "python",
   "nbconvert_exporter": "python",
   "pygments_lexer": "ipython3",
   "version": "3.9.18"
  }
 },
 "nbformat": 4,
 "nbformat_minor": 5
}
