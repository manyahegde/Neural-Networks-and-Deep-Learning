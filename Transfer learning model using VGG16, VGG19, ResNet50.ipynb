{
 "cells": [
  {
   "cell_type": "code",
   "execution_count": 14,
   "id": "71bb8f8b",
   "metadata": {},
   "outputs": [],
   "source": [
    "import pandas as pd\n",
    "import numpy as np\n",
    "import tensorflow as tf\n",
    "from tensorflow import keras\n",
    "from tensorflow.keras import layers\n",
    "from tensorflow.keras.applications import VGG16,VGG19,ResNet50\n",
    "from tensorflow.keras.utils import to_categorical"
   ]
  },
  {
   "cell_type": "code",
   "execution_count": 15,
   "id": "32aadd22",
   "metadata": {},
   "outputs": [],
   "source": [
    "(x_train,y_train),(x_test,y_test)=keras.datasets.cifar10.load_data()"
   ]
  },
  {
   "cell_type": "code",
   "execution_count": 16,
   "id": "4793ef64",
   "metadata": {},
   "outputs": [],
   "source": [
    "x_train=x_train[:5000].astype('float32')/255.0\n",
    "x_test=x_test.astype('float32')/255.0\n",
    "y_train=y_train[:5000]"
   ]
  },
  {
   "cell_type": "code",
   "execution_count": 17,
   "id": "12017c5a",
   "metadata": {},
   "outputs": [],
   "source": [
    "y_train=to_categorical(y_train,10)\n",
    "y_test=to_categorical(y_test,10)"
   ]
  },
  {
   "cell_type": "code",
   "execution_count": 18,
   "id": "f946bd37",
   "metadata": {},
   "outputs": [],
   "source": [
    "vgg16=VGG16(weights='imagenet',include_top=False,input_shape=(32,32,3))\n",
    "vgg19=VGG19(weights='imagenet',include_top=False,input_shape=(32,32,3))\n",
    "resnet=ResNet50(weights='imagenet',include_top=False,input_shape=(32,32,3))"
   ]
  },
  {
   "cell_type": "code",
   "execution_count": 19,
   "id": "b255364e",
   "metadata": {},
   "outputs": [],
   "source": [
    "vgg16_output=layers.GlobalAveragePooling2D()(vgg16.output)\n",
    "vgg16_output=layers.Dense(10,activation='softmax')(vgg16_output)\n",
    "\n",
    "vgg19_output=layers.GlobalAveragePooling2D()(vgg19.output)\n",
    "vgg19_output=layers.Dense(10,activation='softmax')(vgg19_output)\n",
    "\n",
    "resnet_output=layers.GlobalAveragePooling2D()(resnet.output)\n",
    "resnet_output=layers.Dense(10,activation='softmax')(resnet_output)"
   ]
  },
  {
   "cell_type": "code",
   "execution_count": 20,
   "id": "95b543e9",
   "metadata": {},
   "outputs": [],
   "source": [
    "vgg16_model=keras.Model(inputs=vgg16.input, outputs=vgg16_output)\n",
    "vgg19_model=keras.Model(inputs=vgg19.input, outputs=vgg19_output)\n",
    "resnet_model=keras.Model(inputs=resnet.input, outputs=resnet_output)"
   ]
  },
  {
   "cell_type": "code",
   "execution_count": 21,
   "id": "36df178d",
   "metadata": {},
   "outputs": [],
   "source": [
    "vgg16_model.compile(optimizer='adam',loss='categorical_crossentropy',metrics=['accuracy'])\n",
    "vgg19_model.compile(optimizer='adam',loss='categorical_crossentropy',metrics=['accuracy'])\n",
    "resnet_model.compile(optimizer='adam',loss='categorical_crossentropy',metrics=['accuracy'])"
   ]
  },
  {
   "cell_type": "code",
   "execution_count": null,
   "id": "22062e88",
   "metadata": {},
   "outputs": [
    {
     "name": "stdout",
     "output_type": "stream",
     "text": [
      "313/313 [==============================] - 51s 159ms/step - loss: 2.5851 - accuracy: 0.0816\n",
      "149/313 [=============>................] - ETA: 31s - loss: 2.5367 - accuracy: 0.1042"
     ]
    }
   ],
   "source": [
    "vgg16_loss,vgg16_accuracy=vgg16_model.evaluate(x_test,y_test)\n",
    "vgg19_loss,vgg19_accuracy=vgg19_model.evaluate(x_test,y_test)\n",
    "resnet_loss,resnet_accuracy=resnet_model.evaluate(x_test,y_test)"
   ]
  },
  {
   "cell_type": "code",
   "execution_count": null,
   "id": "91e08669",
   "metadata": {},
   "outputs": [],
   "source": [
    "print(\"VGG16 Test Accuracy:\",vgg16_accuracy)\n",
    "print(\"VGG19 Test Accuracy:\",vgg19_accuracy)\n",
    "print(\"ResNet50 Test Accuracy:\",resnet_accuracy)"
   ]
  },
  {
   "cell_type": "code",
   "execution_count": null,
   "id": "e2ba9a16",
   "metadata": {},
   "outputs": [],
   "source": []
  }
 ],
 "metadata": {
  "kernelspec": {
   "display_name": "Python 3 (ipykernel)",
   "language": "python",
   "name": "python3"
  },
  "language_info": {
   "codemirror_mode": {
    "name": "ipython",
    "version": 3
   },
   "file_extension": ".py",
   "mimetype": "text/x-python",
   "name": "python",
   "nbconvert_exporter": "python",
   "pygments_lexer": "ipython3",
   "version": "3.9.13"
  }
 },
 "nbformat": 4,
 "nbformat_minor": 5
}
