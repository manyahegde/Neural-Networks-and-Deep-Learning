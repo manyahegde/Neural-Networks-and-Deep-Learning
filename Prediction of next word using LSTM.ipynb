{
 "cells": [
  {
   "cell_type": "markdown",
   "id": "fe684bdc",
   "metadata": {},
   "source": [
    "##### Prediction of next word using LSTM"
   ]
  },
  {
   "cell_type": "code",
   "execution_count": 2,
   "id": "1187b3c0",
   "metadata": {},
   "outputs": [],
   "source": [
    "import tensorflow as tf\n",
    "import numpy as np"
   ]
  },
  {
   "cell_type": "code",
   "execution_count": 3,
   "id": "e86bc0e1",
   "metadata": {},
   "outputs": [],
   "source": [
    "text='This is my repo for NNDL lab programs. Here I will be uploading my lab programs. You can refer it from here.'\n",
    "\n",
    "# Preprocess the text and create a vocabulary\n",
    "tokenizer = tf.keras.layers.TextVectorization()\n",
    "tokenizer.adapt(text.split())\n",
    "\n",
    "# Convert text to sequences of token indices\n",
    "text_sequences = tokenizer(text)\n",
    "\n",
    "# Create training data (X) and target data (y)\n",
    "X = text_sequences[:-1]\n",
    "y = text_sequences[1:]"
   ]
  },
  {
   "cell_type": "code",
   "execution_count": 4,
   "id": "c7235021",
   "metadata": {},
   "outputs": [
    {
     "name": "stdout",
     "output_type": "stream",
     "text": [
      "Epoch 1/50\n",
      "1/1 [==============================] - 1s 1s/step - loss: 2.9964\n",
      "Epoch 2/50\n",
      "1/1 [==============================] - 0s 3ms/step - loss: 2.9933\n",
      "Epoch 3/50\n",
      "1/1 [==============================] - 0s 16ms/step - loss: 2.9901\n",
      "Epoch 4/50\n",
      "1/1 [==============================] - 0s 0s/step - loss: 2.9870\n",
      "Epoch 5/50\n",
      "1/1 [==============================] - 0s 17ms/step - loss: 2.9838\n",
      "Epoch 6/50\n",
      "1/1 [==============================] - 0s 10ms/step - loss: 2.9806\n",
      "Epoch 7/50\n",
      "1/1 [==============================] - 0s 6ms/step - loss: 2.9774\n",
      "Epoch 8/50\n",
      "1/1 [==============================] - 0s 11ms/step - loss: 2.9740\n",
      "Epoch 9/50\n",
      "1/1 [==============================] - 0s 0s/step - loss: 2.9706\n",
      "Epoch 10/50\n",
      "1/1 [==============================] - 0s 3ms/step - loss: 2.9671\n",
      "Epoch 11/50\n",
      "1/1 [==============================] - 0s 8ms/step - loss: 2.9635\n",
      "Epoch 12/50\n",
      "1/1 [==============================] - 0s 6ms/step - loss: 2.9598\n",
      "Epoch 13/50\n",
      "1/1 [==============================] - 0s 11ms/step - loss: 2.9559\n",
      "Epoch 14/50\n",
      "1/1 [==============================] - 0s 4ms/step - loss: 2.9519\n",
      "Epoch 15/50\n",
      "1/1 [==============================] - 0s 12ms/step - loss: 2.9478\n",
      "Epoch 16/50\n",
      "1/1 [==============================] - 0s 0s/step - loss: 2.9435\n",
      "Epoch 17/50\n",
      "1/1 [==============================] - 0s 12ms/step - loss: 2.9390\n",
      "Epoch 18/50\n",
      "1/1 [==============================] - 0s 0s/step - loss: 2.9344\n",
      "Epoch 19/50\n",
      "1/1 [==============================] - 0s 3ms/step - loss: 2.9295\n",
      "Epoch 20/50\n",
      "1/1 [==============================] - 0s 8ms/step - loss: 2.9244\n",
      "Epoch 21/50\n",
      "1/1 [==============================] - 0s 8ms/step - loss: 2.9191\n",
      "Epoch 22/50\n",
      "1/1 [==============================] - 0s 8ms/step - loss: 2.9136\n",
      "Epoch 23/50\n",
      "1/1 [==============================] - 0s 10ms/step - loss: 2.9078\n",
      "Epoch 24/50\n",
      "1/1 [==============================] - 0s 12ms/step - loss: 2.9018\n",
      "Epoch 25/50\n",
      "1/1 [==============================] - 0s 4ms/step - loss: 2.8955\n",
      "Epoch 26/50\n",
      "1/1 [==============================] - 0s 12ms/step - loss: 2.8889\n",
      "Epoch 27/50\n",
      "1/1 [==============================] - 0s 665us/step - loss: 2.8819\n",
      "Epoch 28/50\n",
      "1/1 [==============================] - 0s 7ms/step - loss: 2.8747\n",
      "Epoch 29/50\n",
      "1/1 [==============================] - 0s 9ms/step - loss: 2.8671\n",
      "Epoch 30/50\n",
      "1/1 [==============================] - 0s 6ms/step - loss: 2.8592\n",
      "Epoch 31/50\n",
      "1/1 [==============================] - 0s 11ms/step - loss: 2.8509\n",
      "Epoch 32/50\n",
      "1/1 [==============================] - 0s 6ms/step - loss: 2.8422\n",
      "Epoch 33/50\n",
      "1/1 [==============================] - 0s 10ms/step - loss: 2.8331\n",
      "Epoch 34/50\n",
      "1/1 [==============================] - 0s 8ms/step - loss: 2.8236\n",
      "Epoch 35/50\n",
      "1/1 [==============================] - 0s 4ms/step - loss: 2.8136\n",
      "Epoch 36/50\n",
      "1/1 [==============================] - 0s 7ms/step - loss: 2.8032\n",
      "Epoch 37/50\n",
      "1/1 [==============================] - 0s 15ms/step - loss: 2.7923\n",
      "Epoch 38/50\n",
      "1/1 [==============================] - 0s 11ms/step - loss: 2.7809\n",
      "Epoch 39/50\n",
      "1/1 [==============================] - 0s 7ms/step - loss: 2.7690\n",
      "Epoch 40/50\n",
      "1/1 [==============================] - 0s 9ms/step - loss: 2.7565\n",
      "Epoch 41/50\n",
      "1/1 [==============================] - 0s 5ms/step - loss: 2.7435\n",
      "Epoch 42/50\n",
      "1/1 [==============================] - 0s 11ms/step - loss: 2.7299\n",
      "Epoch 43/50\n",
      "1/1 [==============================] - 0s 7ms/step - loss: 2.7157\n",
      "Epoch 44/50\n",
      "1/1 [==============================] - 0s 10ms/step - loss: 2.7008\n",
      "Epoch 45/50\n",
      "1/1 [==============================] - 0s 0s/step - loss: 2.6853\n",
      "Epoch 46/50\n",
      "1/1 [==============================] - 0s 3ms/step - loss: 2.6692\n",
      "Epoch 47/50\n",
      "1/1 [==============================] - 0s 7ms/step - loss: 2.6524\n",
      "Epoch 48/50\n",
      "1/1 [==============================] - 0s 10ms/step - loss: 2.6348\n",
      "Epoch 49/50\n",
      "1/1 [==============================] - 0s 0s/step - loss: 2.6165\n",
      "Epoch 50/50\n",
      "1/1 [==============================] - 0s 11ms/step - loss: 2.5975\n"
     ]
    },
    {
     "data": {
      "text/plain": [
       "<keras.callbacks.History at 0x2538dff6970>"
      ]
     },
     "execution_count": 4,
     "metadata": {},
     "output_type": "execute_result"
    }
   ],
   "source": [
    "# Build an LSTM model using Keras\n",
    "model = tf.keras.Sequential([\n",
    "    tf.keras.layers.Embedding(input_dim=len(tokenizer.get_vocabulary()), output_dim=64, input_length=1),\n",
    "    tf.keras.layers.LSTM(128, return_sequences=True),\n",
    "    tf.keras.layers.Dense(len(tokenizer.get_vocabulary()), activation='softmax')\n",
    "])\n",
    "\n",
    "model.compile(loss='sparse_categorical_crossentropy', optimizer='adam')\n",
    "\n",
    "# Train the model\n",
    "model.fit(X, y, epochs=50)"
   ]
  },
  {
   "cell_type": "code",
   "execution_count": 5,
   "id": "4c8f438e",
   "metadata": {},
   "outputs": [],
   "source": [
    "# Function to generate the next word\n",
    "def generate_next_word(seed_text):\n",
    "    seed_sequence = tokenizer(seed_text)\n",
    "    predicted_probabilities = model.predict(seed_sequence)\n",
    "    predicted_index = np.argmax(predicted_probabilities)\n",
    "    predicted_word = tokenizer.get_vocabulary()[predicted_index]\n",
    "    return predicted_word"
   ]
  },
  {
   "cell_type": "code",
   "execution_count": 6,
   "id": "25c6553f",
   "metadata": {},
   "outputs": [
    {
     "name": "stdout",
     "output_type": "stream",
     "text": [
      "1/1 [==============================] - 0s 258ms/step\n",
      "Input: 'can', Predicted: 'refer'\n"
     ]
    }
   ],
   "source": [
    "# Test the predictive text system\n",
    "input_text = \"can\"\n",
    "predicted_word = generate_next_word(input_text)\n",
    "print(f\"Input: '{input_text}', Predicted: '{predicted_word}'\")"
   ]
  },
  {
   "cell_type": "code",
   "execution_count": null,
   "id": "c4a5f299",
   "metadata": {},
   "outputs": [],
   "source": []
  }
 ],
 "metadata": {
  "kernelspec": {
   "display_name": "Python 3 (ipykernel)",
   "language": "python",
   "name": "python3"
  },
  "language_info": {
   "codemirror_mode": {
    "name": "ipython",
    "version": 3
   },
   "file_extension": ".py",
   "mimetype": "text/x-python",
   "name": "python",
   "nbconvert_exporter": "python",
   "pygments_lexer": "ipython3",
   "version": "3.9.13"
  }
 },
 "nbformat": 4,
 "nbformat_minor": 5
}
