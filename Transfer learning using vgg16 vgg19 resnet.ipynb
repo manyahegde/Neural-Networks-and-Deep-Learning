{
 "cells": [
  {
   "cell_type": "code",
   "execution_count": 4,
   "id": "16039118",
   "metadata": {},
   "outputs": [],
   "source": [
    "import numpy as np\n",
    "import pandas as pd\n",
    "from tensorflow import keras\n",
    "from tensorflow.keras import layers\n",
    "from tensorflow.keras.applications import VGG16, VGG19, ResNet50\n",
    "from tensorflow.keras.datasets import cifar10\n",
    "from tensorflow.keras.utils import to_categorical"
   ]
  },
  {
   "cell_type": "code",
   "execution_count": 5,
   "id": "92c9e052",
   "metadata": {},
   "outputs": [],
   "source": [
    "#load the CIFAR-10 dataset\n",
    "(x_train,y_train),(x_test,y_test)=cifar10.load_data()"
   ]
  },
  {
   "cell_type": "code",
   "execution_count": 6,
   "id": "b7027a01",
   "metadata": {},
   "outputs": [],
   "source": [
    "#preprocess the data\n",
    "x_train=x_train.astype(\"float32\")/255.0\n",
    "x_test=x_test.astype(\"float32\")/255.0"
   ]
  },
  {
   "cell_type": "code",
   "execution_count": 7,
   "id": "1fe41b7f",
   "metadata": {},
   "outputs": [],
   "source": [
    "#categorical encoding\n",
    "y_train=to_categorical(y_train,10)\n",
    "y_test=to_categorical(y_test,10)"
   ]
  },
  {
   "cell_type": "code",
   "execution_count": 9,
   "id": "fc88b854",
   "metadata": {},
   "outputs": [
    {
     "name": "stdout",
     "output_type": "stream",
     "text": [
      "A local file was found, but it seems to be incomplete or outdated because the auto file hash does not match the original value of 253f8cb515780f3b799900260a226db6 so we will re-download the data.\n",
      "Downloading data from https://storage.googleapis.com/tensorflow/keras-applications/vgg19/vgg19_weights_tf_dim_ordering_tf_kernels_notop.h5\n",
      "80134624/80134624 [==============================] - 84s 1us/step\n",
      "Downloading data from https://storage.googleapis.com/tensorflow/keras-applications/resnet/resnet50_weights_tf_dim_ordering_tf_kernels_notop.h5\n",
      "94765736/94765736 [==============================] - 99s 1us/step\n"
     ]
    }
   ],
   "source": [
    "#define the pre-trained models\n",
    "vgg16=VGG16(weights='imagenet',include_top=False,input_shape=(32,32,3))\n",
    "vgg19=VGG19(weights='imagenet',include_top=False,input_shape=(32,32,3))\n",
    "resnet=ResNet50(weights='imagenet',include_top=False,input_shape=(32,32,3))"
   ]
  },
  {
   "cell_type": "code",
   "execution_count": 10,
   "id": "1f116ecf",
   "metadata": {},
   "outputs": [],
   "source": [
    "#define output layers\n",
    "vgg16_output=layers.GlobalAveragePooling2D()(vgg16.output)\n",
    "vgg16_output=layers.Dense(10, activation=\"softmax\")(vgg16_output)\n",
    "\n",
    "vgg19_output=layers.GlobalAveragePooling2D()(vgg19.output)\n",
    "vgg19_output=layers.Dense(10, activation=\"softmax\")(vgg19_output)\n",
    "\n",
    "resnet_output=layers.GlobalAveragePooling2D()(resnet.output)\n",
    "resnet_output=layers.Dense(10, activation=\"softmax\")(resnet_output)"
   ]
  },
  {
   "cell_type": "code",
   "execution_count": 11,
   "id": "ff003ac1",
   "metadata": {},
   "outputs": [],
   "source": [
    "#define the complete models\n",
    "vgg16_model=keras.Model(inputs=vgg16.input,outputs=vgg16_output)\n",
    "vgg19_model=keras.Model(inputs=vgg19.input,outputs=vgg19_output)\n",
    "resnet_model=keras.Model(inputs=resnet.input,outputs=resnet_output)"
   ]
  },
  {
   "cell_type": "code",
   "execution_count": 14,
   "id": "96d5030d",
   "metadata": {},
   "outputs": [],
   "source": [
    "#compile the models\n",
    "vgg16_model.compile(loss=\"categorical_crossentropy\",optimizer=\"adam\", metrics=['accuracy'])\n",
    "vgg19_model.compile(loss=\"categorical_crossentropy\",optimizer=\"adam\", metrics=['accuracy'])\n",
    "resnet_model.compile(loss=\"categorical_crossentropy\",optimizer=\"adam\", metrics=['accuracy']) "
   ]
  },
  {
   "cell_type": "code",
   "execution_count": 17,
   "id": "6e8b405c",
   "metadata": {},
   "outputs": [
    {
     "name": "stdout",
     "output_type": "stream",
     "text": [
      "313/313 [==============================] - 49s 155ms/step - loss: 2.5494 - accuracy: 0.1032\n",
      "313/313 [==============================] - 61s 194ms/step - loss: 2.4268 - accuracy: 0.1247\n",
      "313/313 [==============================] - 25s 79ms/step - loss: 3.4897 - accuracy: 0.0999\n"
     ]
    }
   ],
   "source": [
    "#evaluate the models\n",
    "vgg16_loss,vgg16_accuracy=vgg16_model.evaluate(x_test,y_test)\n",
    "vgg19_loss,vgg19_accuracy=vgg19_model.evaluate(x_test,y_test)\n",
    "resnet_loss,resnet_accuracy=resnet_model.evaluate(x_test,y_test)"
   ]
  },
  {
   "cell_type": "code",
   "execution_count": 18,
   "id": "be01a544",
   "metadata": {},
   "outputs": [
    {
     "name": "stdout",
     "output_type": "stream",
     "text": [
      "VGG16 Test Accuracy: 0.10320000350475311\n",
      "VGG19 Test Accuracy: 0.12470000237226486\n",
      "ResNet50 Test Accuracy: 0.09989999979734421\n"
     ]
    }
   ],
   "source": [
    "#print the results\n",
    "print(\"VGG16 Test Accuracy:\",vgg16_accuracy)\n",
    "print(\"VGG19 Test Accuracy:\",vgg19_accuracy)\n",
    "print(\"ResNet50 Test Accuracy:\",resnet_accuracy)"
   ]
  },
  {
   "cell_type": "code",
   "execution_count": null,
   "id": "0ca36c3e",
   "metadata": {},
   "outputs": [],
   "source": []
  }
 ],
 "metadata": {
  "kernelspec": {
   "display_name": "Python 3 (ipykernel)",
   "language": "python",
   "name": "python3"
  },
  "language_info": {
   "codemirror_mode": {
    "name": "ipython",
    "version": 3
   },
   "file_extension": ".py",
   "mimetype": "text/x-python",
   "name": "python",
   "nbconvert_exporter": "python",
   "pygments_lexer": "ipython3",
   "version": "3.9.13"
  }
 },
 "nbformat": 4,
 "nbformat_minor": 5
}
