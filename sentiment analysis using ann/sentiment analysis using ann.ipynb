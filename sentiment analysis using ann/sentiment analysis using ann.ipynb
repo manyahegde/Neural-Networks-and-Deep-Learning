{
 "cells": [
  {
   "cell_type": "code",
   "execution_count": 5,
   "id": "ab2f642c",
   "metadata": {},
   "outputs": [],
   "source": [
    "import pandas as pd\n",
    "import numpy as np\n",
    "import tensorflow as tf\n",
    "from tensorflow import keras\n",
    "from sklearn.model_selection import train_test_split\n",
    "from sklearn.preprocessing import LabelEncoder\n",
    "from sklearn.feature_extraction.text import TfidfVectorizer"
   ]
  },
  {
   "cell_type": "code",
   "execution_count": 7,
   "id": "9609e5f1",
   "metadata": {},
   "outputs": [],
   "source": [
    "df=pd.read_csv(r\"sentiment.csv\")"
   ]
  },
  {
   "cell_type": "code",
   "execution_count": 8,
   "id": "0cf85c8f",
   "metadata": {},
   "outputs": [
    {
     "data": {
      "text/html": [
       "<div>\n",
       "<style scoped>\n",
       "    .dataframe tbody tr th:only-of-type {\n",
       "        vertical-align: middle;\n",
       "    }\n",
       "\n",
       "    .dataframe tbody tr th {\n",
       "        vertical-align: top;\n",
       "    }\n",
       "\n",
       "    .dataframe thead th {\n",
       "        text-align: right;\n",
       "    }\n",
       "</style>\n",
       "<table border=\"1\" class=\"dataframe\">\n",
       "  <thead>\n",
       "    <tr style=\"text-align: right;\">\n",
       "      <th></th>\n",
       "      <th>Index</th>\n",
       "      <th>message to examine</th>\n",
       "      <th>label (depression result)</th>\n",
       "    </tr>\n",
       "  </thead>\n",
       "  <tbody>\n",
       "    <tr>\n",
       "      <th>0</th>\n",
       "      <td>106</td>\n",
       "      <td>just had a real good moment. i missssssssss hi...</td>\n",
       "      <td>0</td>\n",
       "    </tr>\n",
       "    <tr>\n",
       "      <th>1</th>\n",
       "      <td>217</td>\n",
       "      <td>is reading manga  http://plurk.com/p/mzp1e</td>\n",
       "      <td>0</td>\n",
       "    </tr>\n",
       "    <tr>\n",
       "      <th>2</th>\n",
       "      <td>220</td>\n",
       "      <td>@comeagainjen http://twitpic.com/2y2lx - http:...</td>\n",
       "      <td>0</td>\n",
       "    </tr>\n",
       "    <tr>\n",
       "      <th>3</th>\n",
       "      <td>288</td>\n",
       "      <td>@lapcat Need to send 'em to my accountant tomo...</td>\n",
       "      <td>0</td>\n",
       "    </tr>\n",
       "    <tr>\n",
       "      <th>4</th>\n",
       "      <td>540</td>\n",
       "      <td>ADD ME ON MYSPACE!!!  myspace.com/LookThunder</td>\n",
       "      <td>0</td>\n",
       "    </tr>\n",
       "  </tbody>\n",
       "</table>\n",
       "</div>"
      ],
      "text/plain": [
       "   Index                                 message to examine  \\\n",
       "0    106  just had a real good moment. i missssssssss hi...   \n",
       "1    217         is reading manga  http://plurk.com/p/mzp1e   \n",
       "2    220  @comeagainjen http://twitpic.com/2y2lx - http:...   \n",
       "3    288  @lapcat Need to send 'em to my accountant tomo...   \n",
       "4    540      ADD ME ON MYSPACE!!!  myspace.com/LookThunder   \n",
       "\n",
       "   label (depression result)  \n",
       "0                          0  \n",
       "1                          0  \n",
       "2                          0  \n",
       "3                          0  \n",
       "4                          0  "
      ]
     },
     "execution_count": 8,
     "metadata": {},
     "output_type": "execute_result"
    }
   ],
   "source": [
    "df.head()"
   ]
  },
  {
   "cell_type": "code",
   "execution_count": 9,
   "id": "98984f60",
   "metadata": {},
   "outputs": [
    {
     "data": {
      "text/plain": [
       "Index                        0\n",
       "message to examine           0\n",
       "label (depression result)    0\n",
       "dtype: int64"
      ]
     },
     "execution_count": 9,
     "metadata": {},
     "output_type": "execute_result"
    }
   ],
   "source": [
    "df.isnull().sum()"
   ]
  },
  {
   "cell_type": "code",
   "execution_count": 10,
   "id": "f5c97f05",
   "metadata": {},
   "outputs": [],
   "source": [
    "#encoding\n",
    "tfid=TfidfVectorizer(max_features=5000)\n",
    "x=tfid.fit_transform(df[\"message to examine\"])\n",
    "y=df['label (depression result)']"
   ]
  },
  {
   "cell_type": "code",
   "execution_count": 11,
   "id": "00d8d246",
   "metadata": {},
   "outputs": [],
   "source": [
    "x=x.toarray()"
   ]
  },
  {
   "cell_type": "code",
   "execution_count": 12,
   "id": "584190cf",
   "metadata": {},
   "outputs": [],
   "source": [
    "x_train,x_test,y_train,y_test=train_test_split(x,y,test_size=0.2,random_state=42)"
   ]
  },
  {
   "cell_type": "code",
   "execution_count": 13,
   "id": "e01a1963",
   "metadata": {},
   "outputs": [],
   "source": [
    "model=keras.Sequential([ keras.layers.Dense(128,activation='relu',input_shape =(x_train.shape[1],)),\n",
    "                        keras.layers.Dense(64,activation='relu'),\n",
    "                        keras.layers.Dense(64,activation='relu'), \n",
    "                        keras.layers.Dense(64,activation='relu'),\n",
    "                        keras.layers.Dense(64,activation='relu'), \n",
    "                        keras.layers.Dense(1,activation='sigmoid'),\n",
    "\n",
    "])\n",
    "#compile\n",
    "model.compile(optimizer='adam',loss='binary_crossentropy',metrics=['accuracy'])"
   ]
  },
  {
   "cell_type": "code",
   "execution_count": 14,
   "id": "527200c1",
   "metadata": {},
   "outputs": [
    {
     "name": "stdout",
     "output_type": "stream",
     "text": [
      "Epoch 1/5\n",
      "258/258 [==============================] - 2s 5ms/step - loss: 0.2310 - accuracy: 0.8978 - val_loss: 0.0698 - val_accuracy: 0.9792\n",
      "Epoch 2/5\n",
      "258/258 [==============================] - 1s 5ms/step - loss: 0.0174 - accuracy: 0.9947 - val_loss: 0.0594 - val_accuracy: 0.9840\n",
      "Epoch 3/5\n",
      "258/258 [==============================] - 1s 5ms/step - loss: 0.0030 - accuracy: 0.9995 - val_loss: 0.0724 - val_accuracy: 0.9859\n",
      "Epoch 4/5\n",
      "258/258 [==============================] - 1s 5ms/step - loss: 0.0021 - accuracy: 0.9998 - val_loss: 0.0849 - val_accuracy: 0.9825\n",
      "Epoch 5/5\n",
      "258/258 [==============================] - 1s 5ms/step - loss: 0.0018 - accuracy: 0.9998 - val_loss: 0.0858 - val_accuracy: 0.9825\n"
     ]
    }
   ],
   "source": [
    "history=model.fit(x_train,y_train,epochs=5,batch_size=32,validation_data=(x_test,y_test))"
   ]
  },
  {
   "cell_type": "code",
   "execution_count": 15,
   "id": "3b920fa0",
   "metadata": {},
   "outputs": [
    {
     "data": {
      "text/plain": [
       "0.08582707494497299"
      ]
     },
     "execution_count": 15,
     "metadata": {},
     "output_type": "execute_result"
    }
   ],
   "source": [
    "#evaluate the model on the set\n",
    "test_loss,test_acc=model.evaluate(x_test,y_test,verbose=0)\n",
    "test_loss"
   ]
  },
  {
   "cell_type": "code",
   "execution_count": 16,
   "id": "837df8d4",
   "metadata": {},
   "outputs": [
    {
     "data": {
      "text/plain": [
       "0.9825496673583984"
      ]
     },
     "execution_count": 16,
     "metadata": {},
     "output_type": "execute_result"
    }
   ],
   "source": [
    "test_acc"
   ]
  },
  {
   "cell_type": "code",
   "execution_count": 17,
   "id": "ca942afb",
   "metadata": {},
   "outputs": [],
   "source": [
    "#save the model\n",
    "model.save('senti.keras')"
   ]
  },
  {
   "cell_type": "code",
   "execution_count": 18,
   "id": "c129f353",
   "metadata": {},
   "outputs": [],
   "source": [
    "#load the save model\n",
    "loaded_model=keras.models.load_model('senti.keras')"
   ]
  },
  {
   "cell_type": "code",
   "execution_count": 19,
   "id": "95c558db",
   "metadata": {},
   "outputs": [
    {
     "data": {
      "text/plain": [
       "<keras.src.engine.sequential.Sequential at 0x19269431490>"
      ]
     },
     "execution_count": 19,
     "metadata": {},
     "output_type": "execute_result"
    }
   ],
   "source": [
    "loaded_model"
   ]
  },
  {
   "cell_type": "code",
   "execution_count": null,
   "id": "4b7e5cc2",
   "metadata": {},
   "outputs": [],
   "source": []
  }
 ],
 "metadata": {
  "kernelspec": {
   "display_name": "Python 3 (ipykernel)",
   "language": "python",
   "name": "python3"
  },
  "language_info": {
   "codemirror_mode": {
    "name": "ipython",
    "version": 3
   },
   "file_extension": ".py",
   "mimetype": "text/x-python",
   "name": "python",
   "nbconvert_exporter": "python",
   "pygments_lexer": "ipython3",
   "version": "3.9.18"
  }
 },
 "nbformat": 4,
 "nbformat_minor": 5
}
