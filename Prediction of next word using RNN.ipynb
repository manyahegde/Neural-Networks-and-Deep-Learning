{
 "cells": [
  {
   "cell_type": "markdown",
   "id": "fe684bdc",
   "metadata": {},
   "source": [
    "##### Prediction of next word using RNN"
   ]
  },
  {
   "cell_type": "code",
   "execution_count": 1,
   "id": "1187b3c0",
   "metadata": {},
   "outputs": [],
   "source": [
    "import tensorflow as tf\n",
    "import numpy as np"
   ]
  },
  {
   "cell_type": "code",
   "execution_count": 2,
   "id": "e86bc0e1",
   "metadata": {},
   "outputs": [],
   "source": [
    "text='This is my repo for NNDL lab programs. Here I will be uploading my lab programs. You can refer it from here.'\n",
    "\n",
    "# Preprocess the text and create a vocabulary\n",
    "tokenizer = tf.keras.layers.TextVectorization()\n",
    "tokenizer.adapt(text.split())\n",
    "\n",
    "# Convert text to sequences of token indices\n",
    "text_sequences = tokenizer(text)\n",
    "\n",
    "# Create training data (X) and target data (y)\n",
    "X = text_sequences[:-1]\n",
    "y = text_sequences[1:]"
   ]
  },
  {
   "cell_type": "code",
   "execution_count": 3,
   "id": "c7235021",
   "metadata": {},
   "outputs": [
    {
     "name": "stdout",
     "output_type": "stream",
     "text": [
      "Epoch 1/50\n",
      "1/1 [==============================] - 1s 826ms/step - loss: 3.0071\n",
      "Epoch 2/50\n",
      "1/1 [==============================] - 0s 4ms/step - loss: 2.9917\n",
      "Epoch 3/50\n",
      "1/1 [==============================] - 0s 10ms/step - loss: 2.9763\n",
      "Epoch 4/50\n",
      "1/1 [==============================] - 0s 4ms/step - loss: 2.9609\n",
      "Epoch 5/50\n",
      "1/1 [==============================] - 0s 12ms/step - loss: 2.9455\n",
      "Epoch 6/50\n",
      "1/1 [==============================] - 0s 5ms/step - loss: 2.9300\n",
      "Epoch 7/50\n",
      "1/1 [==============================] - 0s 11ms/step - loss: 2.9143\n",
      "Epoch 8/50\n",
      "1/1 [==============================] - 0s 0s/step - loss: 2.8985\n",
      "Epoch 9/50\n",
      "1/1 [==============================] - 0s 3ms/step - loss: 2.8825\n",
      "Epoch 10/50\n",
      "1/1 [==============================] - 0s 1ms/step - loss: 2.8663\n",
      "Epoch 11/50\n",
      "1/1 [==============================] - 0s 15ms/step - loss: 2.8498\n",
      "Epoch 12/50\n",
      "1/1 [==============================] - 0s 0s/step - loss: 2.8329\n",
      "Epoch 13/50\n",
      "1/1 [==============================] - 0s 6ms/step - loss: 2.8157\n",
      "Epoch 14/50\n",
      "1/1 [==============================] - 0s 0s/step - loss: 2.7980\n",
      "Epoch 15/50\n",
      "1/1 [==============================] - 0s 1ms/step - loss: 2.7800\n",
      "Epoch 16/50\n",
      "1/1 [==============================] - 0s 0s/step - loss: 2.7614\n",
      "Epoch 17/50\n",
      "1/1 [==============================] - 0s 2ms/step - loss: 2.7424\n",
      "Epoch 18/50\n",
      "1/1 [==============================] - 0s 0s/step - loss: 2.7227\n",
      "Epoch 19/50\n",
      "1/1 [==============================] - 0s 11ms/step - loss: 2.7025\n",
      "Epoch 20/50\n",
      "1/1 [==============================] - 0s 5ms/step - loss: 2.6817\n",
      "Epoch 21/50\n",
      "1/1 [==============================] - 0s 11ms/step - loss: 2.6602\n",
      "Epoch 22/50\n",
      "1/1 [==============================] - 0s 5ms/step - loss: 2.6381\n",
      "Epoch 23/50\n",
      "1/1 [==============================] - 0s 0s/step - loss: 2.6152\n",
      "Epoch 24/50\n",
      "1/1 [==============================] - 0s 6ms/step - loss: 2.5915\n",
      "Epoch 25/50\n",
      "1/1 [==============================] - 0s 0s/step - loss: 2.5671\n",
      "Epoch 26/50\n",
      "1/1 [==============================] - 0s 15ms/step - loss: 2.5419\n",
      "Epoch 27/50\n",
      "1/1 [==============================] - 0s 0s/step - loss: 2.5158\n",
      "Epoch 28/50\n",
      "1/1 [==============================] - 0s 14ms/step - loss: 2.4889\n",
      "Epoch 29/50\n",
      "1/1 [==============================] - 0s 0s/step - loss: 2.4611\n",
      "Epoch 30/50\n",
      "1/1 [==============================] - 0s 10ms/step - loss: 2.4324\n",
      "Epoch 31/50\n",
      "1/1 [==============================] - 0s 11ms/step - loss: 2.4027\n",
      "Epoch 32/50\n",
      "1/1 [==============================] - 0s 8ms/step - loss: 2.3722\n",
      "Epoch 33/50\n",
      "1/1 [==============================] - 0s 8ms/step - loss: 2.3406\n",
      "Epoch 34/50\n",
      "1/1 [==============================] - 0s 8ms/step - loss: 2.3081\n",
      "Epoch 35/50\n",
      "1/1 [==============================] - 0s 5ms/step - loss: 2.2747\n",
      "Epoch 36/50\n",
      "1/1 [==============================] - 0s 1ms/step - loss: 2.2402\n",
      "Epoch 37/50\n",
      "1/1 [==============================] - 0s 7ms/step - loss: 2.2048\n",
      "Epoch 38/50\n",
      "1/1 [==============================] - 0s 7ms/step - loss: 2.1684\n",
      "Epoch 39/50\n",
      "1/1 [==============================] - 0s 11ms/step - loss: 2.1310\n",
      "Epoch 40/50\n",
      "1/1 [==============================] - 0s 5ms/step - loss: 2.0926\n",
      "Epoch 41/50\n",
      "1/1 [==============================] - 0s 0s/step - loss: 2.0533\n",
      "Epoch 42/50\n",
      "1/1 [==============================] - 0s 1ms/step - loss: 2.0130\n",
      "Epoch 43/50\n",
      "1/1 [==============================] - 0s 0s/step - loss: 1.9719\n",
      "Epoch 44/50\n",
      "1/1 [==============================] - 0s 10ms/step - loss: 1.9299\n",
      "Epoch 45/50\n",
      "1/1 [==============================] - 0s 6ms/step - loss: 1.8870\n",
      "Epoch 46/50\n",
      "1/1 [==============================] - 0s 0s/step - loss: 1.8434\n",
      "Epoch 47/50\n",
      "1/1 [==============================] - 0s 9ms/step - loss: 1.7990\n",
      "Epoch 48/50\n",
      "1/1 [==============================] - 0s 8ms/step - loss: 1.7539\n",
      "Epoch 49/50\n",
      "1/1 [==============================] - 0s 9ms/step - loss: 1.7082\n",
      "Epoch 50/50\n",
      "1/1 [==============================] - 0s 8ms/step - loss: 1.6619\n"
     ]
    },
    {
     "data": {
      "text/plain": [
       "<keras.callbacks.History at 0x25489de1dc0>"
      ]
     },
     "execution_count": 3,
     "metadata": {},
     "output_type": "execute_result"
    }
   ],
   "source": [
    "# Build an LSTM model using Keras\n",
    "model = tf.keras.Sequential([\n",
    "    tf.keras.layers.Embedding(input_dim=len(tokenizer.get_vocabulary()), output_dim=64, input_length=1),\n",
    "    tf.keras.layers.SimpleRNN(128, return_sequences=True),\n",
    "    tf.keras.layers.Dense(len(tokenizer.get_vocabulary()), activation='softmax')\n",
    "])\n",
    "\n",
    "model.compile(loss='sparse_categorical_crossentropy', optimizer='adam')\n",
    "\n",
    "# Train the model\n",
    "model.fit(X, y, epochs=50)"
   ]
  },
  {
   "cell_type": "code",
   "execution_count": 4,
   "id": "4c8f438e",
   "metadata": {},
   "outputs": [],
   "source": [
    "# Function to generate the next word\n",
    "def generate_next_word(seed_text):\n",
    "    seed_sequence = tokenizer(seed_text)\n",
    "    predicted_probabilities = model.predict(seed_sequence)\n",
    "    predicted_index = np.argmax(predicted_probabilities)\n",
    "    predicted_word = tokenizer.get_vocabulary()[predicted_index]\n",
    "    return predicted_word"
   ]
  },
  {
   "cell_type": "code",
   "execution_count": 5,
   "id": "25c6553f",
   "metadata": {},
   "outputs": [
    {
     "name": "stdout",
     "output_type": "stream",
     "text": [
      "1/1 [==============================] - 0s 112ms/step\n",
      "Input: 'can', Predicted: 'refer'\n"
     ]
    }
   ],
   "source": [
    "# Test the predictive text system\n",
    "input_text = \"can\"\n",
    "predicted_word = generate_next_word(input_text)\n",
    "print(f\"Input: '{input_text}', Predicted: '{predicted_word}'\")"
   ]
  },
  {
   "cell_type": "code",
   "execution_count": null,
   "id": "c4a5f299",
   "metadata": {},
   "outputs": [],
   "source": []
  }
 ],
 "metadata": {
  "kernelspec": {
   "display_name": "Python 3 (ipykernel)",
   "language": "python",
   "name": "python3"
  },
  "language_info": {
   "codemirror_mode": {
    "name": "ipython",
    "version": 3
   },
   "file_extension": ".py",
   "mimetype": "text/x-python",
   "name": "python",
   "nbconvert_exporter": "python",
   "pygments_lexer": "ipython3",
   "version": "3.9.13"
  }
 },
 "nbformat": 4,
 "nbformat_minor": 5
}
